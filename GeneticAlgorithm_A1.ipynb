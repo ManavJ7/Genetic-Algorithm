{
  "nbformat": 4,
  "nbformat_minor": 0,
  "metadata": {
    "colab": {
      "name": "GeneticAlgorithm_A1.ipynb",
      "provenance": [],
      "collapsed_sections": []
    },
    "kernelspec": {
      "name": "python3",
      "display_name": "Python 3"
    }
  },
  "cells": [
    {
      "cell_type": "code",
      "metadata": {
        "id": "74YboNxcS0eG"
      },
      "source": [
        "import random\n",
        "from math import exp\n",
        "from math import log\n",
        "from copy import copy, deepcopy\n",
        "from collections import deque\n",
        "import matplotlib.pyplot as plt "
      ],
      "execution_count": null,
      "outputs": []
    },
    {
      "cell_type": "code",
      "metadata": {
        "id": "5lEoLKfBQsm1"
      },
      "source": [
        "def plot_graph(x, y, title):\n",
        "  plt.plot(x, y) \n",
        "  plt.xlabel('number of generations') \n",
        "  plt.ylabel('best fitness value') \n",
        "  plt.title(title) \n",
        "  plt.show() "
      ],
      "execution_count": null,
      "outputs": []
    },
    {
      "cell_type": "code",
      "metadata": {
        "id": "dOdI2ZDBZw4x"
      },
      "source": [
        "def fitnessFunctQ(state):\n",
        "    row = {}\n",
        "    diagnol_1 = {}\n",
        "    diagnol_2 = {}\n",
        "    for idx in range(-30, 30):\n",
        "      diagnol_1[idx] = 0\n",
        "      diagnol_2[idx] = 0\n",
        "      row[idx] = 0\n",
        "    fitness_val = 29\n",
        "    for index in range(len(state)):\n",
        "      fitness_val -= row[state[index]]\n",
        "      fitness_val -= diagnol_1[state[index] + index]\n",
        "      fitness_val -= diagnol_2[state[index] - index]\n",
        "      row[state[index]]+=1\n",
        "      diagnol_2[state[index] - index]+=1\n",
        "      diagnol_1[state[index] + index]+=1\n",
        "    return fitness_val"
      ],
      "execution_count": null,
      "outputs": []
    },
    {
      "cell_type": "code",
      "metadata": {
        "id": "evwcWO0zYduf"
      },
      "source": [
        "def mutateQ(child):\n",
        "    mutate_pos = random.randrange(0, 8, 1)\n",
        "    mutate_val = random.randrange(1, 9, 1)\n",
        "    child[mutate_pos] = mutate_val\n",
        "    return child;"
      ],
      "execution_count": null,
      "outputs": []
    },
    {
      "cell_type": "code",
      "metadata": {
        "id": "N3MPRebWPGvT"
      },
      "source": [
        "def reproduceChildQ(parent_1, parent_2, iteration):\n",
        "    num_par_1 = random.randrange(1, 8, 1);\n",
        "    child = []\n",
        "    for index in range(0, num_par_1):\n",
        "      child.append(parent_1[index])\n",
        "    for index in range(num_par_1, 8):\n",
        "      child.append(parent_2[index]);\n",
        "    rval = random.random();\n",
        "    if rval >= 0.4 or (iteration<=100 and rval >= 0.1):\n",
        "      child = mutateQ(child)\n",
        "    return child"
      ],
      "execution_count": null,
      "outputs": []
    },
    {
      "cell_type": "code",
      "metadata": {
        "id": "pM5vobHwXzly"
      },
      "source": [
        "def main_naive_Q(seed_val):\n",
        "    random.seed(seed_val)\n",
        "    cur_state = [[1]*8]*20\n",
        "    next_state = [[1]*8]*20\n",
        "    cur_fitness = [0]*20\n",
        "    idx_list = [0]*20\n",
        "    prob_selection = [0]*20\n",
        "    index_of_final_state = 0\n",
        "    list_x = []\n",
        "    list_y =[]\n",
        "    for iterations in range(0, 10000):\n",
        "      best_fitness = 0\n",
        "      flag = 0\n",
        "      for index in range(0, 20):\n",
        "        cur_fitness[index] = fitnessFunctQ(cur_state[index])\n",
        "        prob_selection[index] = cur_fitness[index]\n",
        "        idx_list[index] = index\n",
        "        best_fitness = max(best_fitness, cur_fitness[index])\n",
        "        if cur_fitness[index] == 29 :\n",
        "          flag = 1\n",
        "          index_of_final_state = index\n",
        "      for index in range(0, 20):\n",
        "        parents = random.choices(idx_list, prob_selection, k = 2);\n",
        "        next_state[index] = reproduceChildQ(cur_state[parents[0]], cur_state[parents[1]], iterations)\n",
        "      cur_state = deepcopy(next_state)\n",
        "      list_x.append(iterations+1)\n",
        "      list_y.append(best_fitness)\n",
        "      if flag == 1 :\n",
        "        print(\"Number of iterations needed to converge = \",iterations)\n",
        "        break\n",
        "    print(\"The state with the best fitness value is = \", cur_state[index_of_final_state])\n",
        "    print(\"Best fitness value = \", cur_fitness[index_of_final_state])\n",
        "    plot_graph(list_x, list_y, \"8 Queens (Naive)\")"
      ],
      "execution_count": null,
      "outputs": []
    },
    {
      "cell_type": "code",
      "metadata": {
        "id": "oUA85joWgunS"
      },
      "source": [
        "def mutateOpQ(child):\n",
        "    mutate_pos = random.randrange(0, 8, 1)\n",
        "    val_remaining = set()\n",
        "    for num in range(1, 9, 1):\n",
        "      val_remaining.add(num)\n",
        "    for num in child:\n",
        "      val_remaining.discard(num)\n",
        "    rem_list = []\n",
        "    for num in val_remaining: \n",
        "      rem_list.append(num)\n",
        "    if len(rem_list)==0:\n",
        "      mutate_pos2 = random.randrange(0, 8, 1)\n",
        "      child[mutate_pos], child[mutate_pos2] = child[mutate_pos2], child[mutate_pos]\n",
        "      return child\n",
        "    mutate_val = random.choice(rem_list)\n",
        "    child[mutate_pos] = mutate_val\n",
        "    return child"
      ],
      "execution_count": null,
      "outputs": []
    },
    {
      "cell_type": "code",
      "metadata": {
        "id": "q1NPnpI7xsz7"
      },
      "source": [
        "def reproduceChildOpQ(parent_1, parent_2, iteration):\n",
        "    num_par_1 = random.randrange(1, 8, 1);\n",
        "    child = []\n",
        "    for index in range(0, num_par_1):\n",
        "      child.append(parent_1[index])\n",
        "    for index in range(num_par_1, 8):\n",
        "      child.append(parent_2[index]);\n",
        "    rval = random.random();\n",
        "    if rval >= 0.4 or (iteration<=100 and rval >= 0.1):\n",
        "      child = mutateOpQ(child)\n",
        "    return child"
      ],
      "execution_count": null,
      "outputs": []
    },
    {
      "cell_type": "code",
      "metadata": {
        "id": "SVa28Wo8itJS"
      },
      "source": [
        "def main_optimised_Q(seed_val):\n",
        "    random.seed(seed_val)\n",
        "    cur_state = [[1]*8]*20\n",
        "    next_state = [[1]*8]*20\n",
        "    cur_fitness = [0]*20\n",
        "    idx_list = [0]*20\n",
        "    index_of_final_state = 0\n",
        "    prob_selection = [0]*20\n",
        "    list_x = []\n",
        "    list_y =[]\n",
        "    for iterations in range(0, 10000):\n",
        "      flag = 0\n",
        "      best_fitness = 0\n",
        "      for index in range(0, 20):\n",
        "        cur_fitness[index] = fitnessFunctQ(cur_state[index])\n",
        "        prob_selection[index] = cur_fitness[index] ** 2\n",
        "        idx_list[index] = index\n",
        "        best_fitness = max(best_fitness, cur_fitness[index])\n",
        "        if cur_fitness[index] == 29 :\n",
        "          flag = 1\n",
        "          index_of_final_state = index\n",
        "      for index in range(0, 20):\n",
        "        parents = random.choices(idx_list, prob_selection, k = 2);\n",
        "        next_state[index] = reproduceChildOpQ(cur_state[parents[0]], cur_state[parents[1]], iterations)\n",
        "      cur_state = deepcopy(next_state)\n",
        "      list_x.append(iterations+1)\n",
        "      list_y.append(best_fitness)\n",
        "      if flag == 1 :\n",
        "        print(\"Number of iterations needed to converge = \",iterations)\n",
        "        break\n",
        "    print(\"The state with the best fitness value is = \", cur_state[index_of_final_state])\n",
        "    print(\"Best fitness value = \", cur_fitness[index_of_final_state])\n",
        "    plot_graph(list_x, list_y, \"8 Queens (Optimised)\") "
      ],
      "execution_count": null,
      "outputs": []
    },
    {
      "cell_type": "code",
      "metadata": {
        "id": "5B7Ykhj3T7Ol"
      },
      "source": [
        "inf = 100000\n",
        "dis = [[0]*20]*20\n",
        "dis[0]  = [0, inf, inf, inf, inf, inf, 150, inf, inf, 200, inf, 120, inf, inf]\n",
        "dis[1]  = [inf, 0, inf, inf, inf, inf, inf, 190, 400, inf, inf, inf, inf, 130]\n",
        "dis[2]  = [inf, inf, 0, 600, 220, 400, inf, inf, 200, inf, inf, inf, inf, inf]\n",
        "dis[3]  = [inf, inf, 600, 0, inf, 210, inf, inf, inf, inf, 300, inf, inf, inf]\n",
        "dis[4]  = [inf, inf, 220, inf, 0, inf, inf, inf, 180, inf, inf, inf, inf, inf]\n",
        "dis[5]  = [inf, inf, 400, 210, inf, 0, inf, inf, inf, inf, 370, 600, 260, 900]\n",
        "dis[6]  = [150, inf, inf, inf, inf, inf, 0, inf, inf, inf, 550, 180, inf, inf]\n",
        "dis[7]  = [inf, 190, inf, inf, inf, inf, inf, 0, inf, 560, inf, inf, inf, 170]\n",
        "dis[8]  = [inf, 400, 200, inf, 180, inf, inf, inf, 0, inf, inf, inf, inf, 600]\n",
        "dis[9]  = [200, inf, inf, inf, inf, inf, inf, 560, inf, 0, inf, 160, inf, 500]\n",
        "dis[10] = [inf, inf, inf, 300, inf, 370, 550, inf, inf, inf, 0, inf, 240, inf]\n",
        "dis[11] = [120, inf, inf, inf, inf, 600, 180, inf, inf, 160, inf, 0, 400, inf]\n",
        "dis[12] = [inf, inf, inf, inf, inf, 260, inf, inf, inf, inf, 240, 400, 0, inf]\n",
        "dis[13] = [inf, 130, inf, inf, inf, 900, inf, 170, 600, 500, inf, inf, inf, 0]  "
      ],
      "execution_count": null,
      "outputs": []
    },
    {
      "cell_type": "code",
      "metadata": {
        "id": "Q_ZBgLjgSxrf"
      },
      "source": [
        "def fitnessFunctT(state):\n",
        "    fitness_val = 0\n",
        "    for index in range(1,15, 1):\n",
        "      fitness_val += dis[ord(state[index-1]) - 65][ord(state[index%14]) - 65]\n",
        "    fitness_val = 1/fitness_val\n",
        "    return fitness_val"
      ],
      "execution_count": null,
      "outputs": []
    },
    {
      "cell_type": "code",
      "metadata": {
        "id": "NLNNq7g4TT5o"
      },
      "source": [
        "def reproduceChildT(parent_1, parent_2, iteration):\n",
        "    left_index = random.randrange(0, 13, 1)\n",
        "    right_index = random.randrange(left_index+1, 14, 1)\n",
        "    child = [0]*14\n",
        "    cities_left = set()\n",
        "    for asc in range(65, 79, 1):\n",
        "      cities_left.add(chr(asc))\n",
        "    for index in range(left_index, right_index+1, 1):\n",
        "      child[index] = parent_1[index]\n",
        "      cities_left.discard(child[index])\n",
        "    index_child = 0;\n",
        "    for index in range(0, 14, 1):\n",
        "      if index_child == left_index:\n",
        "        index_child = right_index+1\n",
        "      prev = len(cities_left)\n",
        "      cities_left.discard(parent_2[index])\n",
        "      cur = len(cities_left)\n",
        "      if prev == cur+1:\n",
        "        child[index_child] = parent_2[index]\n",
        "        index_child += 1\n",
        "    rval = random.random();\n",
        "    if rval >= 0.4 or (iteration<=1000 and rval >= 0.1):\n",
        "      child = mutateT(child)\n",
        "    return child"
      ],
      "execution_count": null,
      "outputs": []
    },
    {
      "cell_type": "code",
      "metadata": {
        "id": "9ek9-1_-k4zo"
      },
      "source": [
        "def mutateT(child):\n",
        "  mutate_pos1 = random.randrange(0, 13, 1)\n",
        "  mutate_pos2 = random.randrange(mutate_pos1+1, 14, 1)\n",
        "  child[mutate_pos1], child[mutate_pos2] = child[mutate_pos2], child[mutate_pos1]\n",
        "  return child"
      ],
      "execution_count": null,
      "outputs": []
    },
    {
      "cell_type": "code",
      "metadata": {
        "id": "QkBcbhfjlMik"
      },
      "source": [
        "def main_naive_T(seed_val):\n",
        "    random.seed(seed_val)\n",
        "    cur_state = [['A', 'B', 'C', 'D', 'E', 'F', 'G', 'H', 'I', 'J', 'K', 'L', 'M', 'N']]*20\n",
        "    next_state = [[1]*14]*20\n",
        "    cur_fitness = [0]*20\n",
        "    idx_list = [0]*20\n",
        "    best_fitness = 0\n",
        "    answer_state = [0]*14\n",
        "    list_fitness = deque()\n",
        "    list_x = []\n",
        "    list_y = []\n",
        "    X = 100\n",
        "    for iterations in range(0, 40000):\n",
        "      flag = 0\n",
        "      bc_fitness = 0\n",
        "      for index in range(0, 20):\n",
        "        cur_fitness[index] = fitnessFunctT(cur_state[index])\n",
        "        if best_fitness < cur_fitness[index]:\n",
        "          answer_state = deepcopy(cur_state[index])\n",
        "        bc_fitness = max(bc_fitness, cur_fitness[index])\n",
        "        best_fitness = max(best_fitness, cur_fitness[index])\n",
        "        idx_list[index] = index\n",
        "      for index in range(0, 20):\n",
        "        parents = random.choices(idx_list, cur_fitness, k = 2);\n",
        "        next_state[index] = reproduceChildT(cur_state[parents[0]], cur_state[parents[1]], iterations)\n",
        "      cur_state = deepcopy(next_state)\n",
        "      list_fitness.append(1/best_fitness)\n",
        "      list_x.append(iterations)\n",
        "      list_y.append(bc_fitness)\n",
        "      if len(list_fitness) == X+1:\n",
        "        list_fitness.popleft()\n",
        "      if 1/best_fitness < inf and len(list_fitness) == X and list_fitness[0] - 100 < list_fitness[X-1]:\n",
        "        print(\"Number of iterations needed to converge = \",iterations)\n",
        "        break\n",
        "    print(\"The state with the best fitness value is = \", answer_state)\n",
        "    print(\"Best fitness value = \", round(1/(best_fitness))) \n",
        "    plot_graph(list_x, list_y, \"Travelling Salesman (Naive)\")"
      ],
      "execution_count": null,
      "outputs": []
    },
    {
      "cell_type": "code",
      "metadata": {
        "id": "k-ns_4-s0V-X"
      },
      "source": [
        "def reproduceChildOpT(parent_1, parent_2, iteration):\n",
        "    num_ele_par1 = random.randrange(1, 14, 1);\n",
        "    left_index = 0\n",
        "    right_index = num_ele_par1-1\n",
        "    connections = 0\n",
        "    for start_ind in range(0, 14-num_ele_par1-1, 1):\n",
        "      temp_conn = 0\n",
        "      for i in range(1, num_ele_par1, 1):\n",
        "        if dis[ord(parent_1[start_ind+i-1])-65][ord(parent_1[start_ind+i])-65]!=inf:\n",
        "          temp_conn+=1\n",
        "      if connections<temp_conn:\n",
        "        left_index = start_ind\n",
        "        right_index = start_ind+num_ele_par1-1\n",
        "    child = [0]*14\n",
        "    cities_left = set()\n",
        "    for asc in range(65, 79, 1):\n",
        "      cities_left.add(chr(asc))\n",
        "    for index in range(left_index, right_index+1, 1):\n",
        "      child[index] = parent_1[index]\n",
        "      cities_left.discard(child[index])\n",
        "    index_child = 0;\n",
        "    for index in range(0, 14, 1):\n",
        "      if index_child == left_index:\n",
        "        index_child = right_index+1\n",
        "      prev = len(cities_left)\n",
        "      cities_left.discard(parent_2[index])\n",
        "      cur = len(cities_left)\n",
        "      if prev == cur+1:\n",
        "        child[index_child] = parent_2[index]\n",
        "        index_child += 1\n",
        "    rval = random.random();\n",
        "    if rval >= 0.4 or (iteration<=1000 and rval >= 0.1):\n",
        "      child = mutateT(child)\n",
        "    return child"
      ],
      "execution_count": null,
      "outputs": []
    },
    {
      "cell_type": "code",
      "metadata": {
        "id": "cC45GsZQ4v67"
      },
      "source": [
        "def main_optimised_T(seed_val):\n",
        "    random.seed(seed_val)\n",
        "    cur_state = [['A', 'B', 'C', 'D', 'E', 'F', 'G', 'H', 'I', 'J', 'K', 'L', 'M', 'N']]*20\n",
        "    next_state = [[1]*14]*20\n",
        "    cur_fitness = [0]*20\n",
        "    prob_selection = [0]*20\n",
        "    idx_list = [0]*20\n",
        "    best_fitness = 0\n",
        "    answer_state = [0]*14\n",
        "    list_fitness = deque()\n",
        "    list_x = []\n",
        "    list_y = []\n",
        "    X = 100\n",
        "    for iterations in range(0, 10000):\n",
        "      flag = 0\n",
        "      bc_fitness = 0\n",
        "      for index in range(0, 20):\n",
        "        cur_fitness[index] = fitnessFunctT(cur_state[index])\n",
        "        if best_fitness < cur_fitness[index]:\n",
        "          answer_state = deepcopy(cur_state[index])\n",
        "        bc_fitness = max(bc_fitness, cur_fitness[index])\n",
        "        best_fitness = max(best_fitness, cur_fitness[index])\n",
        "        prob_selection[index] = cur_fitness[index] ** 2\n",
        "        idx_list[index] = index\n",
        "      for index in range(0, 20):\n",
        "        parents = random.choices(idx_list, prob_selection, k = 2);\n",
        "        child_1 = reproduceChildOpT(cur_state[parents[0]], cur_state[parents[1]], iterations)\n",
        "        child_2 = reproduceChildOpT(cur_state[parents[1]], cur_state[parents[0]], iterations)\n",
        "        if fitnessFunctT(child_1) < fitnessFunctT(child_2):\n",
        "          child_1 = child_2\n",
        "        next_state[index] = child_1\n",
        "      cur_state = deepcopy(next_state)\n",
        "      list_fitness.append(1/best_fitness)\n",
        "      list_x.append(iterations)\n",
        "      list_y.append(bc_fitness)\n",
        "      if len(list_fitness) == X+1:\n",
        "        list_fitness.popleft()\n",
        "      if 1/best_fitness < inf and len(list_fitness) == X and list_fitness[0] - 100 < list_fitness[X-1]:\n",
        "        print(\"Number of iterations needed to converge = \",iterations)\n",
        "        break\n",
        "    print(\"The state with the best fitness value is = \", answer_state)\n",
        "    print(\"Best fitness value = \", round(1/(best_fitness))) \n",
        "    plot_graph(list_x, list_y, \"Travelling Salesman (Optimised)\")"
      ],
      "execution_count": null,
      "outputs": []
    },
    {
      "cell_type": "code",
      "metadata": {
        "id": "UA0W36JfYoS0"
      },
      "source": [
        "# main_naive_Q(13)\n",
        "# main_optimised_Q(13)\n",
        "# main_naive_T(13)\n",
        "#main_optimised_T(13)"
      ],
      "execution_count": null,
      "outputs": []
    },
    {
      "cell_type": "code",
      "metadata": {
        "id": "wd3P4J2JbkOr"
      },
      "source": [
        "def main():\n",
        "  print(\"Press 1 for 8-Queens and 2 for Travelling Salesman problem\")\n",
        "  choice = input(\"Enter your value: \")\n",
        "  if choice == \"1\":\n",
        "    main_optimised_Q(13)\n",
        "  else:\n",
        "    main_optimised_T(13)"
      ],
      "execution_count": null,
      "outputs": []
    },
    {
      "cell_type": "code",
      "metadata": {
        "colab": {
          "base_uri": "https://localhost:8080/",
          "height": 380
        },
        "id": "gmaDBI8wcFsO",
        "outputId": "c0826ea2-0fe2-4b21-907d-a01bcb42d56f"
      },
      "source": [
        "main()"
      ],
      "execution_count": null,
      "outputs": [
        {
          "output_type": "stream",
          "text": [
            "Press 1 for 8-Queens and 2 for Travelling Salesman problem\n",
            "Enter your value: 2\n",
            "Number of iterations needed to converge =  150\n",
            "The state with the best fitness value is =  ['C', 'E', 'I', 'B', 'N', 'H', 'J', 'A', 'G', 'L', 'M', 'K', 'D', 'F']\n",
            "Best fitness value =  3740\n"
          ],
          "name": "stdout"
        },
        {
          "output_type": "display_data",
          "data": {
            "image/png": "[encoded data removed]",
            "text/plain": [
              "<Figure size 432x288 with 1 Axes>"
            ]
          },
          "metadata": {
            "tags": [],
            "needs_background": "light"
          }
        }
      ]
    }
  ]
}